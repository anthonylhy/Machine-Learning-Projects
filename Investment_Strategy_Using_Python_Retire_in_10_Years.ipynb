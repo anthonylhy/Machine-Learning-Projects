{
  "nbformat": 4,
  "nbformat_minor": 0,
  "metadata": {
    "colab": {
      "name": "Investment Strategy Using Python: Retire in 10 Years.ipynb",
      "provenance": [],
      "authorship_tag": "ABX9TyM3tGzS0ERq7tKtqegvtkJ5",
      "include_colab_link": true
    },
    "kernelspec": {
      "name": "python3",
      "display_name": "Python 3"
    },
    "language_info": {
      "name": "python"
    }
  },
  "cells": [
    {
      "cell_type": "markdown",
      "metadata": {
        "id": "view-in-github",
        "colab_type": "text"
      },
      "source": [
        "<a href=\"https://colab.research.google.com/github/anthonylhy/Machine-Learning-Projects/blob/master/Investment_Strategy_Using_Python_Retire_in_10_Years.ipynb\" target=\"_parent\"><img src=\"https://colab.research.google.com/assets/colab-badge.svg\" alt=\"Open In Colab\"/></a>"
      ]
    },
    {
      "cell_type": "code",
      "metadata": {
        "id": "QnjmRNixAfoV"
      },
      "source": [
        "import numpy as np\n",
        "import pandas as pd\n",
        "import matplotlib.pyplot as plt"
      ],
      "execution_count": 36,
      "outputs": []
    },
    {
      "cell_type": "code",
      "metadata": {
        "id": "rsg2D1rEA4tZ"
      },
      "source": [
        "#Create lists\n",
        "Year = []\n",
        "Yearly_Income = []\n",
        "Yearly_Expenses = []\n",
        "Yearly_Investments = []\n",
        "Annual_Returns = []"
      ],
      "execution_count": 37,
      "outputs": []
    },
    {
      "cell_type": "code",
      "metadata": {
        "id": "kg7jtMYDBLbk"
      },
      "source": [
        "#Your yearly constant income\n",
        "income = 90000\n",
        "#Yearly constant expense\n",
        "expense = income / 2\n",
        "#Avg interest of 8%\n",
        "interest_rate = 0.08\n",
        "#You invest half of your income\n",
        "investment = income / 2\n",
        "#Calculating the annual return\n",
        "annual_return = investment * interest_rate\n",
        "#Current year\n",
        "year = 2021"
      ],
      "execution_count": 38,
      "outputs": []
    },
    {
      "cell_type": "code",
      "metadata": {
        "id": "gKF-HpugCXBz"
      },
      "source": [
        "#Append the first values to the list\n",
        "Year.append(year)\n",
        "Yearly_Income.append(income)\n",
        "Yearly_Expenses.append(expense)\n",
        "Yearly_Investments.append(investment)\n",
        "Annual_Returns.append(annual_return)"
      ],
      "execution_count": 39,
      "outputs": []
    },
    {
      "cell_type": "code",
      "metadata": {
        "id": "gOfyPAX3DBzj"
      },
      "source": [
        "#Loop for 'n' years\n",
        "invested_years = 20\n",
        "for i in range(0, invested_years-1):\n",
        "  #Update the investment to be the previous investment plus the previous annual return plus half of your income\n",
        "  investment = investment + annual_return + income / 2\n",
        "  #Update the annual return to be the current investment times the interest rate\n",
        "  annual_return = investment * interest_rate\n",
        "  #Append the new data to the list\n",
        "  Year.append(year + i + 1)\n",
        "  Yearly_Income.append(income)\n",
        "  Yearly_Expenses.append(expense)\n",
        "  Yearly_Investments.append(investment)\n",
        "  Annual_Returns.append(annual_return)"
      ],
      "execution_count": 40,
      "outputs": []
    },
    {
      "cell_type": "code",
      "metadata": {
        "id": "zeHYLeYvEsbf"
      },
      "source": [
        "#Create a DataFrame\n",
        "df = pd.DataFrame()\n",
        "df['Year'] = Year\n",
        "df['Yearly_Income'] = Yearly_Income\n",
        "df['Yearly_Expenses'] = Yearly_Expenses\n",
        "df['Yearly_investments'] = Yearly_Investments\n",
        "df['Annual_Returns'] = Annual_Returns"
      ],
      "execution_count": 41,
      "outputs": []
    },
    {
      "cell_type": "code",
      "metadata": {
        "colab": {
          "base_uri": "https://localhost:8080/",
          "height": 639
        },
        "id": "ejtAzCTxGqhI",
        "outputId": "14a56174-2df0-44ec-9bed-514713585809"
      },
      "source": [
        "#Show the data\n",
        "df"
      ],
      "execution_count": 42,
      "outputs": [
        {
          "output_type": "execute_result",
          "data": {
            "text/html": [
              "<div>\n",
              "<style scoped>\n",
              "    .dataframe tbody tr th:only-of-type {\n",
              "        vertical-align: middle;\n",
              "    }\n",
              "\n",
              "    .dataframe tbody tr th {\n",
              "        vertical-align: top;\n",
              "    }\n",
              "\n",
              "    .dataframe thead th {\n",
              "        text-align: right;\n",
              "    }\n",
              "</style>\n",
              "<table border=\"1\" class=\"dataframe\">\n",
              "  <thead>\n",
              "    <tr style=\"text-align: right;\">\n",
              "      <th></th>\n",
              "      <th>Year</th>\n",
              "      <th>Yearly_Income</th>\n",
              "      <th>Yearly_Expenses</th>\n",
              "      <th>Yearly_investments</th>\n",
              "      <th>Annual_Returns</th>\n",
              "    </tr>\n",
              "  </thead>\n",
              "  <tbody>\n",
              "    <tr>\n",
              "      <th>0</th>\n",
              "      <td>2021</td>\n",
              "      <td>90000</td>\n",
              "      <td>45000.0</td>\n",
              "      <td>4.500000e+04</td>\n",
              "      <td>3600.000000</td>\n",
              "    </tr>\n",
              "    <tr>\n",
              "      <th>1</th>\n",
              "      <td>2022</td>\n",
              "      <td>90000</td>\n",
              "      <td>45000.0</td>\n",
              "      <td>9.360000e+04</td>\n",
              "      <td>7488.000000</td>\n",
              "    </tr>\n",
              "    <tr>\n",
              "      <th>2</th>\n",
              "      <td>2023</td>\n",
              "      <td>90000</td>\n",
              "      <td>45000.0</td>\n",
              "      <td>1.460880e+05</td>\n",
              "      <td>11687.040000</td>\n",
              "    </tr>\n",
              "    <tr>\n",
              "      <th>3</th>\n",
              "      <td>2024</td>\n",
              "      <td>90000</td>\n",
              "      <td>45000.0</td>\n",
              "      <td>2.027750e+05</td>\n",
              "      <td>16222.003200</td>\n",
              "    </tr>\n",
              "    <tr>\n",
              "      <th>4</th>\n",
              "      <td>2025</td>\n",
              "      <td>90000</td>\n",
              "      <td>45000.0</td>\n",
              "      <td>2.639970e+05</td>\n",
              "      <td>21119.763456</td>\n",
              "    </tr>\n",
              "    <tr>\n",
              "      <th>5</th>\n",
              "      <td>2026</td>\n",
              "      <td>90000</td>\n",
              "      <td>45000.0</td>\n",
              "      <td>3.301168e+05</td>\n",
              "      <td>26409.344532</td>\n",
              "    </tr>\n",
              "    <tr>\n",
              "      <th>6</th>\n",
              "      <td>2027</td>\n",
              "      <td>90000</td>\n",
              "      <td>45000.0</td>\n",
              "      <td>4.015262e+05</td>\n",
              "      <td>32122.092095</td>\n",
              "    </tr>\n",
              "    <tr>\n",
              "      <th>7</th>\n",
              "      <td>2028</td>\n",
              "      <td>90000</td>\n",
              "      <td>45000.0</td>\n",
              "      <td>4.786482e+05</td>\n",
              "      <td>38291.859463</td>\n",
              "    </tr>\n",
              "    <tr>\n",
              "      <th>8</th>\n",
              "      <td>2029</td>\n",
              "      <td>90000</td>\n",
              "      <td>45000.0</td>\n",
              "      <td>5.619401e+05</td>\n",
              "      <td>44955.208220</td>\n",
              "    </tr>\n",
              "    <tr>\n",
              "      <th>9</th>\n",
              "      <td>2030</td>\n",
              "      <td>90000</td>\n",
              "      <td>45000.0</td>\n",
              "      <td>6.518953e+05</td>\n",
              "      <td>52151.624877</td>\n",
              "    </tr>\n",
              "    <tr>\n",
              "      <th>10</th>\n",
              "      <td>2031</td>\n",
              "      <td>90000</td>\n",
              "      <td>45000.0</td>\n",
              "      <td>7.490469e+05</td>\n",
              "      <td>59923.754867</td>\n",
              "    </tr>\n",
              "    <tr>\n",
              "      <th>11</th>\n",
              "      <td>2032</td>\n",
              "      <td>90000</td>\n",
              "      <td>45000.0</td>\n",
              "      <td>8.539707e+05</td>\n",
              "      <td>68317.655257</td>\n",
              "    </tr>\n",
              "    <tr>\n",
              "      <th>12</th>\n",
              "      <td>2033</td>\n",
              "      <td>90000</td>\n",
              "      <td>45000.0</td>\n",
              "      <td>9.672883e+05</td>\n",
              "      <td>77383.067677</td>\n",
              "    </tr>\n",
              "    <tr>\n",
              "      <th>13</th>\n",
              "      <td>2034</td>\n",
              "      <td>90000</td>\n",
              "      <td>45000.0</td>\n",
              "      <td>1.089671e+06</td>\n",
              "      <td>87173.713092</td>\n",
              "    </tr>\n",
              "    <tr>\n",
              "      <th>14</th>\n",
              "      <td>2035</td>\n",
              "      <td>90000</td>\n",
              "      <td>45000.0</td>\n",
              "      <td>1.221845e+06</td>\n",
              "      <td>97747.610139</td>\n",
              "    </tr>\n",
              "    <tr>\n",
              "      <th>15</th>\n",
              "      <td>2036</td>\n",
              "      <td>90000</td>\n",
              "      <td>45000.0</td>\n",
              "      <td>1.364593e+06</td>\n",
              "      <td>109167.418950</td>\n",
              "    </tr>\n",
              "    <tr>\n",
              "      <th>16</th>\n",
              "      <td>2037</td>\n",
              "      <td>90000</td>\n",
              "      <td>45000.0</td>\n",
              "      <td>1.518760e+06</td>\n",
              "      <td>121500.812466</td>\n",
              "    </tr>\n",
              "    <tr>\n",
              "      <th>17</th>\n",
              "      <td>2038</td>\n",
              "      <td>90000</td>\n",
              "      <td>45000.0</td>\n",
              "      <td>1.685261e+06</td>\n",
              "      <td>134820.877463</td>\n",
              "    </tr>\n",
              "    <tr>\n",
              "      <th>18</th>\n",
              "      <td>2039</td>\n",
              "      <td>90000</td>\n",
              "      <td>45000.0</td>\n",
              "      <td>1.865082e+06</td>\n",
              "      <td>149206.547660</td>\n",
              "    </tr>\n",
              "    <tr>\n",
              "      <th>19</th>\n",
              "      <td>2040</td>\n",
              "      <td>90000</td>\n",
              "      <td>45000.0</td>\n",
              "      <td>2.059288e+06</td>\n",
              "      <td>164743.071473</td>\n",
              "    </tr>\n",
              "  </tbody>\n",
              "</table>\n",
              "</div>"
            ],
            "text/plain": [
              "    Year  Yearly_Income  Yearly_Expenses  Yearly_investments  Annual_Returns\n",
              "0   2021          90000          45000.0        4.500000e+04     3600.000000\n",
              "1   2022          90000          45000.0        9.360000e+04     7488.000000\n",
              "2   2023          90000          45000.0        1.460880e+05    11687.040000\n",
              "3   2024          90000          45000.0        2.027750e+05    16222.003200\n",
              "4   2025          90000          45000.0        2.639970e+05    21119.763456\n",
              "5   2026          90000          45000.0        3.301168e+05    26409.344532\n",
              "6   2027          90000          45000.0        4.015262e+05    32122.092095\n",
              "7   2028          90000          45000.0        4.786482e+05    38291.859463\n",
              "8   2029          90000          45000.0        5.619401e+05    44955.208220\n",
              "9   2030          90000          45000.0        6.518953e+05    52151.624877\n",
              "10  2031          90000          45000.0        7.490469e+05    59923.754867\n",
              "11  2032          90000          45000.0        8.539707e+05    68317.655257\n",
              "12  2033          90000          45000.0        9.672883e+05    77383.067677\n",
              "13  2034          90000          45000.0        1.089671e+06    87173.713092\n",
              "14  2035          90000          45000.0        1.221845e+06    97747.610139\n",
              "15  2036          90000          45000.0        1.364593e+06   109167.418950\n",
              "16  2037          90000          45000.0        1.518760e+06   121500.812466\n",
              "17  2038          90000          45000.0        1.685261e+06   134820.877463\n",
              "18  2039          90000          45000.0        1.865082e+06   149206.547660\n",
              "19  2040          90000          45000.0        2.059288e+06   164743.071473"
            ]
          },
          "metadata": {
            "tags": []
          },
          "execution_count": 42
        }
      ]
    },
    {
      "cell_type": "code",
      "metadata": {
        "colab": {
          "base_uri": "https://localhost:8080/",
          "height": 338
        },
        "id": "85nQJXeiGthA",
        "outputId": "6ff07286-234a-4339-f7ce-ca2c0061ec2b"
      },
      "source": [
        "#Visualize the data\n",
        "plt.figure(figsize=(12.2, 4.5))\n",
        "plt.plot(df['Year'],df['Yearly_Expenses'], label='Yearly_Expenses')\n",
        "plt.plot(df['Year'],df['Annual_Returns'], label='Annual_Returns')\n",
        "plt.xticks(rotation=45)\n",
        "plt.title('Retire in 10 Years')\n",
        "plt.xlabel('Years')\n",
        "plt.ylabel('$')\n",
        "plt.xticks(df['Year'])\n",
        "plt.legend()\n",
        "plt.show()"
      ],
      "execution_count": 43,
      "outputs": [
        {
          "output_type": "display_data",
          "data": {
            "image/png": "[encoded data removed]",
            "text/plain": [
              "<Figure size 878.4x324 with 1 Axes>"
            ]
          },
          "metadata": {
            "tags": [],
            "needs_background": "light"
          }
        }
      ]
    },
    {
      "cell_type": "code",
      "metadata": {
        "colab": {
          "base_uri": "https://localhost:8080/",
          "height": 77
        },
        "id": "htmHL_HHJerd",
        "outputId": "3ae98b5d-4338-4aaf-f2bb-0d45e56df908"
      },
      "source": [
        "#Show the year/row you can live off the returns\n",
        "df[df.Yearly_Expenses <= df.Annual_Returns].head(1)"
      ],
      "execution_count": 44,
      "outputs": [
        {
          "output_type": "execute_result",
          "data": {
            "text/html": [
              "<div>\n",
              "<style scoped>\n",
              "    .dataframe tbody tr th:only-of-type {\n",
              "        vertical-align: middle;\n",
              "    }\n",
              "\n",
              "    .dataframe tbody tr th {\n",
              "        vertical-align: top;\n",
              "    }\n",
              "\n",
              "    .dataframe thead th {\n",
              "        text-align: right;\n",
              "    }\n",
              "</style>\n",
              "<table border=\"1\" class=\"dataframe\">\n",
              "  <thead>\n",
              "    <tr style=\"text-align: right;\">\n",
              "      <th></th>\n",
              "      <th>Year</th>\n",
              "      <th>Yearly_Income</th>\n",
              "      <th>Yearly_Expenses</th>\n",
              "      <th>Yearly_investments</th>\n",
              "      <th>Annual_Returns</th>\n",
              "    </tr>\n",
              "  </thead>\n",
              "  <tbody>\n",
              "    <tr>\n",
              "      <th>9</th>\n",
              "      <td>2030</td>\n",
              "      <td>90000</td>\n",
              "      <td>45000.0</td>\n",
              "      <td>651895.310966</td>\n",
              "      <td>52151.624877</td>\n",
              "    </tr>\n",
              "  </tbody>\n",
              "</table>\n",
              "</div>"
            ],
            "text/plain": [
              "   Year  Yearly_Income  Yearly_Expenses  Yearly_investments  Annual_Returns\n",
              "9  2030          90000          45000.0       651895.310966    52151.624877"
            ]
          },
          "metadata": {
            "tags": []
          },
          "execution_count": 44
        }
      ]
    },
    {
      "cell_type": "code",
      "metadata": {
        "id": "qCYAV_ywKEVJ"
      },
      "source": [
        ""
      ],
      "execution_count": null,
      "outputs": []
    }
  ]
}