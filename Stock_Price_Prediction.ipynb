{
  "nbformat": 4,
  "nbformat_minor": 0,
  "metadata": {
    "colab": {
      "name": "Stock Price Prediction.ipynb",
      "provenance": [],
      "collapsed_sections": [],
      "include_colab_link": true
    },
    "kernelspec": {
      "name": "python3",
      "display_name": "Python 3"
    }
  },
  "cells": [
    {
      "cell_type": "markdown",
      "metadata": {
        "id": "view-in-github",
        "colab_type": "text"
      },
      "source": [
        "<a href=\"https://colab.research.google.com/github/anthonylhy/Data-Project---Stock-Market-Data-Analysis/blob/master/Stock_Price_Prediction.ipynb\" target=\"_parent\"><img src=\"https://colab.research.google.com/assets/colab-badge.svg\" alt=\"Open In Colab\"/></a>"
      ]
    },
    {
      "cell_type": "code",
      "metadata": {
        "id": "M679-f3hdgnl"
      },
      "source": [
        "#import libraries\n",
        "import math\n",
        "import pandas_datareader as web\n",
        "import numpy as np\n",
        "import pandas as pd\n",
        "from sklearn.preprocessing import MinMaxScaler\n",
        "from keras.models import Sequential\n",
        "from keras.layers import Dense, LSTM\n",
        "import matplotlib.pyplot as plt\n",
        "plt.style.use('fivethirtyeight')"
      ],
      "execution_count": null,
      "outputs": []
    },
    {
      "cell_type": "code",
      "metadata": {
        "id": "-P3cYCWFezol",
        "colab": {
          "base_uri": "https://localhost:8080/",
          "height": 455
        },
        "outputId": "aa2ab5c4-0a4f-4cdc-e5cd-3c472ceeec10"
      },
      "source": [
        "#Get the stock quote\n",
        "df = web.DataReader('TSLA', data_source='yahoo',start='2012-01-01', end='2021-04-20')\n",
        "#Show the data\n",
        "df"
      ],
      "execution_count": null,
      "outputs": [
        {
          "output_type": "execute_result",
          "data": {
            "text/html": [
              "<div>\n",
              "<style scoped>\n",
              "    .dataframe tbody tr th:only-of-type {\n",
              "        vertical-align: middle;\n",
              "    }\n",
              "\n",
              "    .dataframe tbody tr th {\n",
              "        vertical-align: top;\n",
              "    }\n",
              "\n",
              "    .dataframe thead th {\n",
              "        text-align: right;\n",
              "    }\n",
              "</style>\n",
              "<table border=\"1\" class=\"dataframe\">\n",
              "  <thead>\n",
              "    <tr style=\"text-align: right;\">\n",
              "      <th></th>\n",
              "      <th>High</th>\n",
              "      <th>Low</th>\n",
              "      <th>Open</th>\n",
              "      <th>Close</th>\n",
              "      <th>Volume</th>\n",
              "      <th>Adj Close</th>\n",
              "    </tr>\n",
              "    <tr>\n",
              "      <th>Date</th>\n",
              "      <th></th>\n",
              "      <th></th>\n",
              "      <th></th>\n",
              "      <th></th>\n",
              "      <th></th>\n",
              "      <th></th>\n",
              "    </tr>\n",
              "  </thead>\n",
              "  <tbody>\n",
              "    <tr>\n",
              "      <th>2012-01-03</th>\n",
              "      <td>5.900000</td>\n",
              "      <td>5.530000</td>\n",
              "      <td>5.788000</td>\n",
              "      <td>5.616000</td>\n",
              "      <td>4640500.0</td>\n",
              "      <td>5.616000</td>\n",
              "    </tr>\n",
              "    <tr>\n",
              "      <th>2012-01-04</th>\n",
              "      <td>5.734000</td>\n",
              "      <td>5.500000</td>\n",
              "      <td>5.642000</td>\n",
              "      <td>5.542000</td>\n",
              "      <td>3150500.0</td>\n",
              "      <td>5.542000</td>\n",
              "    </tr>\n",
              "    <tr>\n",
              "      <th>2012-01-05</th>\n",
              "      <td>5.586000</td>\n",
              "      <td>5.370000</td>\n",
              "      <td>5.552000</td>\n",
              "      <td>5.424000</td>\n",
              "      <td>5027500.0</td>\n",
              "      <td>5.424000</td>\n",
              "    </tr>\n",
              "    <tr>\n",
              "      <th>2012-01-06</th>\n",
              "      <td>5.558000</td>\n",
              "      <td>5.282000</td>\n",
              "      <td>5.440000</td>\n",
              "      <td>5.382000</td>\n",
              "      <td>4931500.0</td>\n",
              "      <td>5.382000</td>\n",
              "    </tr>\n",
              "    <tr>\n",
              "      <th>2012-01-09</th>\n",
              "      <td>5.498000</td>\n",
              "      <td>5.224000</td>\n",
              "      <td>5.400000</td>\n",
              "      <td>5.450000</td>\n",
              "      <td>4485000.0</td>\n",
              "      <td>5.450000</td>\n",
              "    </tr>\n",
              "    <tr>\n",
              "      <th>...</th>\n",
              "      <td>...</td>\n",
              "      <td>...</td>\n",
              "      <td>...</td>\n",
              "      <td>...</td>\n",
              "      <td>...</td>\n",
              "      <td>...</td>\n",
              "    </tr>\n",
              "    <tr>\n",
              "      <th>2021-04-14</th>\n",
              "      <td>780.789978</td>\n",
              "      <td>728.030029</td>\n",
              "      <td>770.700012</td>\n",
              "      <td>732.229980</td>\n",
              "      <td>49017400.0</td>\n",
              "      <td>732.229980</td>\n",
              "    </tr>\n",
              "    <tr>\n",
              "      <th>2021-04-15</th>\n",
              "      <td>743.690002</td>\n",
              "      <td>721.309998</td>\n",
              "      <td>743.099976</td>\n",
              "      <td>738.849976</td>\n",
              "      <td>27848900.0</td>\n",
              "      <td>738.849976</td>\n",
              "    </tr>\n",
              "    <tr>\n",
              "      <th>2021-04-16</th>\n",
              "      <td>749.409973</td>\n",
              "      <td>724.599976</td>\n",
              "      <td>728.650024</td>\n",
              "      <td>739.780029</td>\n",
              "      <td>27924000.0</td>\n",
              "      <td>739.780029</td>\n",
              "    </tr>\n",
              "    <tr>\n",
              "      <th>2021-04-19</th>\n",
              "      <td>725.400024</td>\n",
              "      <td>691.799988</td>\n",
              "      <td>719.599976</td>\n",
              "      <td>714.630005</td>\n",
              "      <td>39686200.0</td>\n",
              "      <td>714.630005</td>\n",
              "    </tr>\n",
              "    <tr>\n",
              "      <th>2021-04-20</th>\n",
              "      <td>737.250000</td>\n",
              "      <td>710.690002</td>\n",
              "      <td>717.419983</td>\n",
              "      <td>718.989990</td>\n",
              "      <td>35550500.0</td>\n",
              "      <td>718.989990</td>\n",
              "    </tr>\n",
              "  </tbody>\n",
              "</table>\n",
              "<p>2339 rows × 6 columns</p>\n",
              "</div>"
            ],
            "text/plain": [
              "                  High         Low  ...      Volume   Adj Close\n",
              "Date                                ...                        \n",
              "2012-01-03    5.900000    5.530000  ...   4640500.0    5.616000\n",
              "2012-01-04    5.734000    5.500000  ...   3150500.0    5.542000\n",
              "2012-01-05    5.586000    5.370000  ...   5027500.0    5.424000\n",
              "2012-01-06    5.558000    5.282000  ...   4931500.0    5.382000\n",
              "2012-01-09    5.498000    5.224000  ...   4485000.0    5.450000\n",
              "...                ...         ...  ...         ...         ...\n",
              "2021-04-14  780.789978  728.030029  ...  49017400.0  732.229980\n",
              "2021-04-15  743.690002  721.309998  ...  27848900.0  738.849976\n",
              "2021-04-16  749.409973  724.599976  ...  27924000.0  739.780029\n",
              "2021-04-19  725.400024  691.799988  ...  39686200.0  714.630005\n",
              "2021-04-20  737.250000  710.690002  ...  35550500.0  718.989990\n",
              "\n",
              "[2339 rows x 6 columns]"
            ]
          },
          "metadata": {
            "tags": []
          },
          "execution_count": 2
        }
      ]
    },
    {
      "cell_type": "code",
      "metadata": {
        "id": "DW2iX6T5nMk1",
        "colab": {
          "base_uri": "https://localhost:8080/"
        },
        "outputId": "8214f350-f48b-499c-c4fe-9c0a22a39203"
      },
      "source": [
        "#Get the rows and columns in the data set\n",
        "df.shape"
      ],
      "execution_count": null,
      "outputs": [
        {
          "output_type": "execute_result",
          "data": {
            "text/plain": [
              "(2339, 6)"
            ]
          },
          "metadata": {
            "tags": []
          },
          "execution_count": 3
        }
      ]
    },
    {
      "cell_type": "code",
      "metadata": {
        "id": "i-IhG96tnWY5",
        "colab": {
          "base_uri": "https://localhost:8080/",
          "height": 518
        },
        "outputId": "17e582a0-0cb8-4249-df75-25e1ecde4ed2"
      },
      "source": [
        "#Visualize the closing price history\n",
        "plt.figure(figsize=(16,8))\n",
        "plt.title('Close Price History')\n",
        "plt.plot(df['Close'])\n",
        "plt.xlabel('Date', fontsize=18)\n",
        "plt.ylabel('Close Price USD ($)', fontsize=18)\n",
        "plt.show()"
      ],
      "execution_count": null,
      "outputs": [
        {
          "output_type": "display_data",
          "data": {
            "image/png": "[encoded data removed]",
            "text/plain": [
              "<Figure size 1152x576 with 1 Axes>"
            ]
          },
          "metadata": {
            "tags": [],
            "needs_background": "light"
          }
        }
      ]
    },
    {
      "cell_type": "code",
      "metadata": {
        "id": "cbjLV39Kna0Q",
        "colab": {
          "base_uri": "https://localhost:8080/"
        },
        "outputId": "29846367-e297-4057-d548-45057e141ea0"
      },
      "source": [
        "#Create a new dataframe with only the 'Close column'\n",
        "data = df.filter(['Close'])\n",
        "#Convert the dataframe to a numpy array\n",
        "dataset = data.values\n",
        "#Get the number of rows to train the model on\n",
        "training_data_len = math.ceil( len(dataset) * .8 )\n",
        "\n",
        "training_data_len"
      ],
      "execution_count": null,
      "outputs": [
        {
          "output_type": "execute_result",
          "data": {
            "text/plain": [
              "1872"
            ]
          },
          "metadata": {
            "tags": []
          },
          "execution_count": 5
        }
      ]
    },
    {
      "cell_type": "code",
      "metadata": {
        "id": "6lgtzPiTsQ-z",
        "colab": {
          "base_uri": "https://localhost:8080/"
        },
        "outputId": "2d40e2b3-c2c4-4f8e-aa63-73fc0e87c215"
      },
      "source": [
        "#Scale the data\n",
        "scaler = MinMaxScaler(feature_range=(0,1))\n",
        "scaled_data = scaler.fit_transform(dataset)\n",
        "\n",
        "scaled_data"
      ],
      "execution_count": null,
      "outputs": [
        {
          "output_type": "execute_result",
          "data": {
            "text/plain": [
              "array([[0.00120428],\n",
              "       [0.00112005],\n",
              "       [0.00098573],\n",
              "       ...,\n",
              "       [0.83687561],\n",
              "       [0.80824829],\n",
              "       [0.81321109]])"
            ]
          },
          "metadata": {
            "tags": []
          },
          "execution_count": 6
        }
      ]
    },
    {
      "cell_type": "code",
      "metadata": {
        "id": "G2JrXDJKtO02",
        "colab": {
          "base_uri": "https://localhost:8080/"
        },
        "outputId": "22477406-d33d-4519-a2f1-523d82c40c22"
      },
      "source": [
        "#Create the training data set\n",
        "#Create the scaled traiing data set\n",
        "train_data = scaled_data[0:training_data_len , :]\n",
        "#Split the data into x_train and y_train data sets\n",
        "x_train = []\n",
        "y_train = []\n",
        "\n",
        "for i in range(60, len(train_data)):\n",
        "  x_train.append(train_data[i-60:i, 0])\n",
        "  y_train.append(train_data[i, 0])\n",
        "  if i<=61:\n",
        "    print(x_train)\n",
        "    print(y_train)\n",
        "    print()"
      ],
      "execution_count": null,
      "outputs": [
        {
          "output_type": "stream",
          "text": [
            "[array([0.00120428, 0.00112005, 0.00098573, 0.00093793, 0.00101533,\n",
            "       0.00109956, 0.00123843, 0.00124298, 0.        , 0.00086736,\n",
            "       0.00091516, 0.00090378, 0.00086736, 0.00090606, 0.00105403,\n",
            "       0.00117924, 0.00140006, 0.00148885, 0.00154348, 0.00142966,\n",
            "       0.00154576, 0.00169829, 0.00190317, 0.00205115, 0.00200562,\n",
            "       0.00208074, 0.00222872, 0.00189179, 0.00198058, 0.00236303,\n",
            "       0.00246092, 0.00259296, 0.00277281, 0.00266581, 0.00260207,\n",
            "       0.00267264, 0.00249507, 0.00246548, 0.00250873, 0.00241767,\n",
            "       0.00264532, 0.00256109, 0.00249962, 0.00234937, 0.00235165,\n",
            "       0.00234027, 0.00272045, 0.00300957, 0.00302778, 0.00284566,\n",
            "       0.00277964, 0.00285249, 0.00277508, 0.00277053, 0.00281378,\n",
            "       0.00264305, 0.0025702 , 0.003326  , 0.00344893, 0.00342845])]\n",
            "[0.0033100671390087323]\n",
            "\n",
            "[array([0.00120428, 0.00112005, 0.00098573, 0.00093793, 0.00101533,\n",
            "       0.00109956, 0.00123843, 0.00124298, 0.        , 0.00086736,\n",
            "       0.00091516, 0.00090378, 0.00086736, 0.00090606, 0.00105403,\n",
            "       0.00117924, 0.00140006, 0.00148885, 0.00154348, 0.00142966,\n",
            "       0.00154576, 0.00169829, 0.00190317, 0.00205115, 0.00200562,\n",
            "       0.00208074, 0.00222872, 0.00189179, 0.00198058, 0.00236303,\n",
            "       0.00246092, 0.00259296, 0.00277281, 0.00266581, 0.00260207,\n",
            "       0.00267264, 0.00249507, 0.00246548, 0.00250873, 0.00241767,\n",
            "       0.00264532, 0.00256109, 0.00249962, 0.00234937, 0.00235165,\n",
            "       0.00234027, 0.00272045, 0.00300957, 0.00302778, 0.00284566,\n",
            "       0.00277964, 0.00285249, 0.00277508, 0.00277053, 0.00281378,\n",
            "       0.00264305, 0.0025702 , 0.003326  , 0.00344893, 0.00342845]), array([0.00112005, 0.00098573, 0.00093793, 0.00101533, 0.00109956,\n",
            "       0.00123843, 0.00124298, 0.        , 0.00086736, 0.00091516,\n",
            "       0.00090378, 0.00086736, 0.00090606, 0.00105403, 0.00117924,\n",
            "       0.00140006, 0.00148885, 0.00154348, 0.00142966, 0.00154576,\n",
            "       0.00169829, 0.00190317, 0.00205115, 0.00200562, 0.00208074,\n",
            "       0.00222872, 0.00189179, 0.00198058, 0.00236303, 0.00246092,\n",
            "       0.00259296, 0.00277281, 0.00266581, 0.00260207, 0.00267264,\n",
            "       0.00249507, 0.00246548, 0.00250873, 0.00241767, 0.00264532,\n",
            "       0.00256109, 0.00249962, 0.00234937, 0.00235165, 0.00234027,\n",
            "       0.00272045, 0.00300957, 0.00302778, 0.00284566, 0.00277964,\n",
            "       0.00285249, 0.00277508, 0.00277053, 0.00281378, 0.00264305,\n",
            "       0.0025702 , 0.003326  , 0.00344893, 0.00342845, 0.00331007])]\n",
            "[0.0033100671390087323, 0.0032895782719707988]\n",
            "\n"
          ],
          "name": "stdout"
        }
      ]
    },
    {
      "cell_type": "code",
      "metadata": {
        "id": "MbPDIMQKwP7K"
      },
      "source": [
        "#Convert the x_train and y_train to numpy arrays\n",
        "x_train, y_train = np.array(x_train),np.array(y_train)"
      ],
      "execution_count": null,
      "outputs": []
    },
    {
      "cell_type": "code",
      "metadata": {
        "id": "lW3w-8Ukx3Fu",
        "colab": {
          "base_uri": "https://localhost:8080/"
        },
        "outputId": "68e72653-ef27-4f20-aa6a-4ab8c605baba"
      },
      "source": [
        "#Reshape the data\n",
        "x_train = np.reshape(x_train, (x_train.shape[0],x_train.shape[1],1))\n",
        "x_train.shape"
      ],
      "execution_count": null,
      "outputs": [
        {
          "output_type": "execute_result",
          "data": {
            "text/plain": [
              "(1812, 60, 1)"
            ]
          },
          "metadata": {
            "tags": []
          },
          "execution_count": 10
        }
      ]
    },
    {
      "cell_type": "code",
      "metadata": {
        "id": "f03XHlebyGv0"
      },
      "source": [
        "#Build the LSTM model\n",
        "model = Sequential()\n",
        "model.add(LSTM(50, return_sequences=True, input_shape = (x_train.shape[1], 1)))\n",
        "model.add(LSTM(50, return_sequences=False))\n",
        "model.add(Dense(25))\n",
        "model.add(Dense(1))"
      ],
      "execution_count": null,
      "outputs": []
    },
    {
      "cell_type": "code",
      "metadata": {
        "id": "1pue5Ntf0Fz7"
      },
      "source": [
        "#Compile the model\n",
        "model.compile(optimizer='adam', loss='mean_squared_error')"
      ],
      "execution_count": null,
      "outputs": []
    },
    {
      "cell_type": "markdown",
      "metadata": {
        "id": "gZYtnFJm0tSi"
      },
      "source": [
        ""
      ]
    },
    {
      "cell_type": "code",
      "metadata": {
        "id": "K4rxalnz0ohO",
        "colab": {
          "base_uri": "https://localhost:8080/"
        },
        "outputId": "b71087a8-9cc8-4789-9997-8e7a51e40215"
      },
      "source": [
        "#Train the model\n",
        "model.fit(x_train,y_train,batch_size=1, epochs=1)\n"
      ],
      "execution_count": null,
      "outputs": [
        {
          "output_type": "stream",
          "text": [
            "1812/1812 [==============================] - 41s 21ms/step - loss: 1.0399e-04\n"
          ],
          "name": "stdout"
        },
        {
          "output_type": "execute_result",
          "data": {
            "text/plain": [
              "<tensorflow.python.keras.callbacks.History at 0x7f3cb16a5bd0>"
            ]
          },
          "metadata": {
            "tags": []
          },
          "execution_count": 13
        }
      ]
    },
    {
      "cell_type": "code",
      "metadata": {
        "id": "xGusc87C1GPK"
      },
      "source": [
        "#Create the testing data set\n",
        "#Create a new array containing scaled values from Index 1552 to 2012\n",
        "test_data = scaled_data[training_data_len - 60: , :]\n",
        "#Create the data sets x_test and y_test\n",
        "x_test = []\n",
        "y_test = dataset[training_data_len:, :]\n",
        "for i in range(60, len(test_data)):\n",
        "  x_test.append(test_data[i-60:i, 0])"
      ],
      "execution_count": null,
      "outputs": []
    },
    {
      "cell_type": "code",
      "metadata": {
        "id": "NPHOWwbL3kpg"
      },
      "source": [
        "#Convert the data into numpy array\n",
        "x_test = np.array(x_test)"
      ],
      "execution_count": null,
      "outputs": []
    },
    {
      "cell_type": "code",
      "metadata": {
        "id": "aeFwV_RS4HOj"
      },
      "source": [
        "#Reshape the data\n",
        "x_test = np.reshape(x_test, (x_test.shape[0], x_test.shape[1], 1 ))"
      ],
      "execution_count": null,
      "outputs": []
    },
    {
      "cell_type": "code",
      "metadata": {
        "id": "BSYqwlfu4xk-"
      },
      "source": [
        "#Get the model predicted price values\n",
        "predictions = model.predict(x_test)\n",
        "predictions = scaler.inverse_transform(predictions)"
      ],
      "execution_count": null,
      "outputs": []
    },
    {
      "cell_type": "code",
      "metadata": {
        "id": "ly7Sf0sb5us-",
        "colab": {
          "base_uri": "https://localhost:8080/"
        },
        "outputId": "1885e456-787a-42d7-d96f-2f9eb33a8d62"
      },
      "source": [
        "#Get the root mean square error (RMSE)\n",
        "rmse = np.sqrt( np.mean ( predictions - y_test)**2 )\n",
        "rmse"
      ],
      "execution_count": null,
      "outputs": [
        {
          "output_type": "execute_result",
          "data": {
            "text/plain": [
              "71.94458398267595"
            ]
          },
          "metadata": {
            "tags": []
          },
          "execution_count": 18
        }
      ]
    },
    {
      "cell_type": "code",
      "metadata": {
        "id": "u-SH66U26UnW",
        "colab": {
          "base_uri": "https://localhost:8080/",
          "height": 627
        },
        "outputId": "5cca2891-4b24-4b14-a9e8-f47d7923b6dc"
      },
      "source": [
        "#Plot the data\n",
        "train = data[:training_data_len]\n",
        "valid = data[training_data_len:]\n",
        "valid['Predictions'] = predictions\n",
        "#Visualize the data\n",
        "plt.figure(figsize=(16,8))\n",
        "plt.title('model')\n",
        "plt.xlabel('Date',fontsize=18)\n",
        "plt.ylabel('Close Price USD ($)',fontsize=18)\n",
        "plt.plot(train['Close'])\n",
        "plt.plot(valid[['Close', 'Predictions']])\n",
        "plt.legend(['Train','Val','Predictions'],loc='lower right')\n",
        "plt.show()"
      ],
      "execution_count": null,
      "outputs": [
        {
          "output_type": "stream",
          "text": [
            "/usr/local/lib/python3.7/dist-packages/ipykernel_launcher.py:4: SettingWithCopyWarning: \n",
            "A value is trying to be set on a copy of a slice from a DataFrame.\n",
            "Try using .loc[row_indexer,col_indexer] = value instead\n",
            "\n",
            "See the caveats in the documentation: https://pandas.pydata.org/pandas-docs/stable/user_guide/indexing.html#returning-a-view-versus-a-copy\n",
            "  after removing the cwd from sys.path.\n"
          ],
          "name": "stderr"
        },
        {
          "output_type": "display_data",
          "data": {
            "image/png": "[encoded data removed]",
            "text/plain": [
              "<Figure size 1152x576 with 1 Axes>"
            ]
          },
          "metadata": {
            "tags": [],
            "needs_background": "light"
          }
        }
      ]
    },
    {
      "cell_type": "code",
      "metadata": {
        "id": "HPX-IEyc8vNa",
        "colab": {
          "base_uri": "https://localhost:8080/",
          "height": 455
        },
        "outputId": "925626e1-7ebb-4a1b-e50b-bc65d6c2a492"
      },
      "source": [
        "#Show the valid and predicted prices\n",
        "valid"
      ],
      "execution_count": null,
      "outputs": [
        {
          "output_type": "execute_result",
          "data": {
            "text/html": [
              "<div>\n",
              "<style scoped>\n",
              "    .dataframe tbody tr th:only-of-type {\n",
              "        vertical-align: middle;\n",
              "    }\n",
              "\n",
              "    .dataframe tbody tr th {\n",
              "        vertical-align: top;\n",
              "    }\n",
              "\n",
              "    .dataframe thead th {\n",
              "        text-align: right;\n",
              "    }\n",
              "</style>\n",
              "<table border=\"1\" class=\"dataframe\">\n",
              "  <thead>\n",
              "    <tr style=\"text-align: right;\">\n",
              "      <th></th>\n",
              "      <th>Close</th>\n",
              "      <th>Predictions</th>\n",
              "    </tr>\n",
              "    <tr>\n",
              "      <th>Date</th>\n",
              "      <th></th>\n",
              "      <th></th>\n",
              "    </tr>\n",
              "  </thead>\n",
              "  <tbody>\n",
              "    <tr>\n",
              "      <th>2019-06-13</th>\n",
              "      <td>42.782001</td>\n",
              "      <td>40.026203</td>\n",
              "    </tr>\n",
              "    <tr>\n",
              "      <th>2019-06-14</th>\n",
              "      <td>42.984001</td>\n",
              "      <td>40.499748</td>\n",
              "    </tr>\n",
              "    <tr>\n",
              "      <th>2019-06-17</th>\n",
              "      <td>45.006001</td>\n",
              "      <td>40.907864</td>\n",
              "    </tr>\n",
              "    <tr>\n",
              "      <th>2019-06-18</th>\n",
              "      <td>44.948002</td>\n",
              "      <td>41.425213</td>\n",
              "    </tr>\n",
              "    <tr>\n",
              "      <th>2019-06-19</th>\n",
              "      <td>45.285999</td>\n",
              "      <td>41.939201</td>\n",
              "    </tr>\n",
              "    <tr>\n",
              "      <th>...</th>\n",
              "      <td>...</td>\n",
              "      <td>...</td>\n",
              "    </tr>\n",
              "    <tr>\n",
              "      <th>2021-04-14</th>\n",
              "      <td>732.229980</td>\n",
              "      <td>496.053986</td>\n",
              "    </tr>\n",
              "    <tr>\n",
              "      <th>2021-04-15</th>\n",
              "      <td>738.849976</td>\n",
              "      <td>502.564545</td>\n",
              "    </tr>\n",
              "    <tr>\n",
              "      <th>2021-04-16</th>\n",
              "      <td>739.780029</td>\n",
              "      <td>508.209717</td>\n",
              "    </tr>\n",
              "    <tr>\n",
              "      <th>2021-04-19</th>\n",
              "      <td>714.630005</td>\n",
              "      <td>512.712769</td>\n",
              "    </tr>\n",
              "    <tr>\n",
              "      <th>2021-04-20</th>\n",
              "      <td>718.989990</td>\n",
              "      <td>514.047607</td>\n",
              "    </tr>\n",
              "  </tbody>\n",
              "</table>\n",
              "<p>467 rows × 2 columns</p>\n",
              "</div>"
            ],
            "text/plain": [
              "                 Close  Predictions\n",
              "Date                               \n",
              "2019-06-13   42.782001    40.026203\n",
              "2019-06-14   42.984001    40.499748\n",
              "2019-06-17   45.006001    40.907864\n",
              "2019-06-18   44.948002    41.425213\n",
              "2019-06-19   45.285999    41.939201\n",
              "...                ...          ...\n",
              "2021-04-14  732.229980   496.053986\n",
              "2021-04-15  738.849976   502.564545\n",
              "2021-04-16  739.780029   508.209717\n",
              "2021-04-19  714.630005   512.712769\n",
              "2021-04-20  718.989990   514.047607\n",
              "\n",
              "[467 rows x 2 columns]"
            ]
          },
          "metadata": {
            "tags": []
          },
          "execution_count": 20
        }
      ]
    },
    {
      "cell_type": "code",
      "metadata": {
        "id": "l30vqeRW9H6s",
        "colab": {
          "base_uri": "https://localhost:8080/"
        },
        "outputId": "3b0534d2-5210-4e22-92d3-4b8ddd6b886f"
      },
      "source": [
        "#Get the quote\n",
        "tesla_quote = web.DataReader('TSLA', data_source = 'yahoo', start = '2012-01-01', end = '2020-04-17')\n",
        "#Create a new dataframe\n",
        "new_df = tesla_quote.filter(['Close'])\n",
        "#Get the last 60 day closing price values and convert dataframe to an array\n",
        "last_60_days = new_df[-60:].values\n",
        "#Scale the data to be values between 0 and 1\n",
        "last_60_days_scaled = scaler.transform(last_60_days)\n",
        "#Create an empty list\n",
        "X_test = []\n",
        "#Append the past 60 days\n",
        "X_test.append(last_60_days_scaled)\n",
        "#Convert the X_test data set to a numpy array\n",
        "X_test = np.array(X_test)\n",
        "#Reshape the data\n",
        "X_test = np.reshape(X_test, (X_test.shape[0], X_test.shape[1], 1))\n",
        "#Get the predicted scaled price\n",
        "pred_price = model.predict(X_test)\n",
        "#Undo the scaling\n",
        "pred_price = scaler.inverse_transform(pred_price)\n",
        "print(pred_price)"
      ],
      "execution_count": null,
      "outputs": [
        {
          "output_type": "stream",
          "text": [
            "[[118.104126]]\n"
          ],
          "name": "stdout"
        }
      ]
    },
    {
      "cell_type": "code",
      "metadata": {
        "id": "SCzJujM7A576",
        "colab": {
          "base_uri": "https://localhost:8080/"
        },
        "outputId": "7f09af9a-bfa8-470a-b619-0024cccecb6b"
      },
      "source": [
        "tesla_quota2 = web.DataReader('TSLA', data_source='yahoo', start='2021-01-03', end='2021-04-20')\n",
        "print(tesla_quota2['Close'])"
      ],
      "execution_count": null,
      "outputs": [
        {
          "output_type": "stream",
          "text": [
            "Date\n",
            "2021-01-04    729.770020\n",
            "2021-01-05    735.109985\n",
            "2021-01-06    755.979980\n",
            "2021-01-07    816.039978\n",
            "2021-01-08    880.020020\n",
            "                 ...    \n",
            "2021-04-14    732.229980\n",
            "2021-04-15    738.849976\n",
            "2021-04-16    739.780029\n",
            "2021-04-19    714.630005\n",
            "2021-04-20    718.989990\n",
            "Name: Close, Length: 74, dtype: float64\n"
          ],
          "name": "stdout"
        }
      ]
    },
    {
      "cell_type": "code",
      "metadata": {
        "id": "BRB2GK-2kl8P"
      },
      "source": [
        ""
      ],
      "execution_count": null,
      "outputs": []
    }
  ]
}